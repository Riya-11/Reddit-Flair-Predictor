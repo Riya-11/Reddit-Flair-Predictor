{
 "cells": [
  {
   "cell_type": "code",
   "execution_count": 1,
   "metadata": {},
   "outputs": [],
   "source": [
    "from bs4 import BeautifulSoup\n",
    "import re\n",
    "import nltk\n",
    "from nltk.corpus import stopwords\n",
    "import pymongo\n",
    "from pymongo import MongoClient\n",
    "import pandas as pd"
   ]
  },
  {
   "cell_type": "markdown",
   "metadata": {},
   "source": [
    "#### Establish connection with MongoDB using pymongo"
   ]
  },
  {
   "cell_type": "code",
   "execution_count": 2,
   "metadata": {},
   "outputs": [],
   "source": [
    "\n",
    "client = MongoClient('mongodb://localhost:27017/')\n",
    "db = client[\"Reddit_India_2\"]\n",
    "posts = db.posts"
   ]
  },
  {
   "cell_type": "markdown",
   "metadata": {},
   "source": [
    "#### Function to remove symbols and stopwords from text"
   ]
  },
  {
   "cell_type": "code",
   "execution_count": 3,
   "metadata": {},
   "outputs": [],
   "source": [
    "replace_with_space = re.compile('[/(){}\\[\\]\\|@,;]')\n",
    "deleteSymbol = re.compile('[^0-9a-z #+_]')\n",
    "stopwords = set(stopwords.words('english'))\n",
    "\n",
    "def cleanText(text):\n",
    "    text = BeautifulSoup(text, \"lxml\").text # HTML decoding\n",
    "    text = text.lower() # lowercase text\n",
    "    text = replace_with_space.sub(' ', text) # replace certain symbols by space in text\n",
    "    text = deleteSymbol.sub('', text) # delete symbols from text\n",
    "    text = ' '.join(word for word in text.split() if word not in stopwords) # remove stopwords from text\n",
    "    return text"
   ]
  },
  {
   "cell_type": "markdown",
   "metadata": {},
   "source": [
    "Store the data in Pandas Dataframe"
   ]
  },
  {
   "cell_type": "code",
   "execution_count": 4,
   "metadata": {},
   "outputs": [],
   "source": [
    "collection = db.posts\n",
    "posts = pd.DataFrame(list(collection.find()))\n",
    "del posts['_id']\n"
   ]
  },
  {
   "cell_type": "code",
   "execution_count": 5,
   "metadata": {},
   "outputs": [
    {
     "data": {
      "text/html": [
       "<div>\n",
       "<style scoped>\n",
       "    .dataframe tbody tr th:only-of-type {\n",
       "        vertical-align: middle;\n",
       "    }\n",
       "\n",
       "    .dataframe tbody tr th {\n",
       "        vertical-align: top;\n",
       "    }\n",
       "\n",
       "    .dataframe thead th {\n",
       "        text-align: right;\n",
       "    }\n",
       "</style>\n",
       "<table border=\"1\" class=\"dataframe\">\n",
       "  <thead>\n",
       "    <tr style=\"text-align: right;\">\n",
       "      <th></th>\n",
       "      <th>title</th>\n",
       "      <th>score</th>\n",
       "      <th>id</th>\n",
       "      <th>url</th>\n",
       "      <th>comms_num</th>\n",
       "      <th>created</th>\n",
       "      <th>body</th>\n",
       "      <th>author</th>\n",
       "      <th>flair</th>\n",
       "      <th>over_18</th>\n",
       "      <th>comments</th>\n",
       "      <th>authors</th>\n",
       "    </tr>\n",
       "  </thead>\n",
       "  <tbody>\n",
       "    <tr>\n",
       "      <th>0</th>\n",
       "      <td>Lost my Job, Sick Mother and Paralysed Dad, In...</td>\n",
       "      <td>1053</td>\n",
       "      <td>g014wc</td>\n",
       "      <td>https://www.reddit.com/r/india/comments/g014wc...</td>\n",
       "      <td>134</td>\n",
       "      <td>1586742148.0</td>\n",
       "      <td>Hi....It's really tough time for everyone. I r...</td>\n",
       "      <td>sanand_satwik</td>\n",
       "      <td>AskIndia</td>\n",
       "      <td>False</td>\n",
       "      <td>I'm a freelancer. Don't listen to the idiots ...</td>\n",
       "      <td>hashedram diabapp xataari Aashayrao sarcrasti...</td>\n",
       "    </tr>\n",
       "    <tr>\n",
       "      <th>1</th>\n",
       "      <td>Why does the government come with a begging bo...</td>\n",
       "      <td>649</td>\n",
       "      <td>fxofyu</td>\n",
       "      <td>https://www.reddit.com/r/india/comments/fxofyu...</td>\n",
       "      <td>204</td>\n",
       "      <td>1586448261.0</td>\n",
       "      <td>We have floods, terrorist attacks, famines due...</td>\n",
       "      <td>TWO-WHEELER-MAFIA</td>\n",
       "      <td>AskIndia</td>\n",
       "      <td>False</td>\n",
       "      <td>I don't understand why they don't use money f...</td>\n",
       "      <td>Kinky-Monk ak32009 fools_eye None DwncstSheep...</td>\n",
       "    </tr>\n",
       "    <tr>\n",
       "      <th>2</th>\n",
       "      <td>Mother's condition is going worse due to hepat...</td>\n",
       "      <td>762</td>\n",
       "      <td>g0zlly</td>\n",
       "      <td>https://www.reddit.com/r/india/comments/g0zlly...</td>\n",
       "      <td>94</td>\n",
       "      <td>1586870771.0</td>\n",
       "      <td>Hi folks, I really appreciate the warm respons...</td>\n",
       "      <td>sanand_satwik</td>\n",
       "      <td>AskIndia</td>\n",
       "      <td>False</td>\n",
       "      <td>If anyone knows who is influential on Twitter...</td>\n",
       "      <td>AlternativeDrop6 TheRobotsHaveCome lanky32 pl...</td>\n",
       "    </tr>\n",
       "    <tr>\n",
       "      <th>3</th>\n",
       "      <td>People stuck with their family during the lock...</td>\n",
       "      <td>159</td>\n",
       "      <td>g4lrhm</td>\n",
       "      <td>https://www.reddit.com/r/india/comments/g4lrhm...</td>\n",
       "      <td>117</td>\n",
       "      <td>1587383829.0</td>\n",
       "      <td>I don't think we've spend so much time with fa...</td>\n",
       "      <td>GauGau24</td>\n",
       "      <td>AskIndia</td>\n",
       "      <td>False</td>\n",
       "      <td>yesterday we had a major fight. (me and my wi...</td>\n",
       "      <td>Best-Economist Srthak_ ppccbba tb33296 damnji...</td>\n",
       "    </tr>\n",
       "    <tr>\n",
       "      <th>4</th>\n",
       "      <td>How prominent is the caste system in India now...</td>\n",
       "      <td>111</td>\n",
       "      <td>g6tldd</td>\n",
       "      <td>https://www.reddit.com/r/india/comments/g6tldd...</td>\n",
       "      <td>107</td>\n",
       "      <td>1587700435.0</td>\n",
       "      <td>Does caste still exist in India? Do people sti...</td>\n",
       "      <td>Oomada9</td>\n",
       "      <td>AskIndia</td>\n",
       "      <td>False</td>\n",
       "      <td>Very much intact. I know a girl from UP who w...</td>\n",
       "      <td>Cierno Vpee26 ppccbba merlin318 nou_kar Buns4...</td>\n",
       "    </tr>\n",
       "  </tbody>\n",
       "</table>\n",
       "</div>"
      ],
      "text/plain": [
       "                                               title score      id  \\\n",
       "0  Lost my Job, Sick Mother and Paralysed Dad, In...  1053  g014wc   \n",
       "1  Why does the government come with a begging bo...   649  fxofyu   \n",
       "2  Mother's condition is going worse due to hepat...   762  g0zlly   \n",
       "3  People stuck with their family during the lock...   159  g4lrhm   \n",
       "4  How prominent is the caste system in India now...   111  g6tldd   \n",
       "\n",
       "                                                 url comms_num       created  \\\n",
       "0  https://www.reddit.com/r/india/comments/g014wc...       134  1586742148.0   \n",
       "1  https://www.reddit.com/r/india/comments/fxofyu...       204  1586448261.0   \n",
       "2  https://www.reddit.com/r/india/comments/g0zlly...        94  1586870771.0   \n",
       "3  https://www.reddit.com/r/india/comments/g4lrhm...       117  1587383829.0   \n",
       "4  https://www.reddit.com/r/india/comments/g6tldd...       107  1587700435.0   \n",
       "\n",
       "                                                body             author  \\\n",
       "0  Hi....It's really tough time for everyone. I r...      sanand_satwik   \n",
       "1  We have floods, terrorist attacks, famines due...  TWO-WHEELER-MAFIA   \n",
       "2  Hi folks, I really appreciate the warm respons...      sanand_satwik   \n",
       "3  I don't think we've spend so much time with fa...           GauGau24   \n",
       "4  Does caste still exist in India? Do people sti...            Oomada9   \n",
       "\n",
       "      flair over_18                                           comments  \\\n",
       "0  AskIndia   False   I'm a freelancer. Don't listen to the idiots ...   \n",
       "1  AskIndia   False   I don't understand why they don't use money f...   \n",
       "2  AskIndia   False   If anyone knows who is influential on Twitter...   \n",
       "3  AskIndia   False   yesterday we had a major fight. (me and my wi...   \n",
       "4  AskIndia   False   Very much intact. I know a girl from UP who w...   \n",
       "\n",
       "                                             authors  \n",
       "0   hashedram diabapp xataari Aashayrao sarcrasti...  \n",
       "1   Kinky-Monk ak32009 fools_eye None DwncstSheep...  \n",
       "2   AlternativeDrop6 TheRobotsHaveCome lanky32 pl...  \n",
       "3   Best-Economist Srthak_ ppccbba tb33296 damnji...  \n",
       "4   Cierno Vpee26 ppccbba merlin318 nou_kar Buns4...  "
      ]
     },
     "execution_count": 5,
     "metadata": {},
     "output_type": "execute_result"
    }
   ],
   "source": [
    "posts.head()"
   ]
  },
  {
   "cell_type": "markdown",
   "metadata": {},
   "source": [
    "Clean the text in title, body and comments columns of the dataframe"
   ]
  },
  {
   "cell_type": "code",
   "execution_count": 6,
   "metadata": {},
   "outputs": [],
   "source": [
    "posts['title'] = posts['title'].apply(str)\n",
    "posts['body'] = posts['body'].apply(str)\n",
    "posts['comments'] = posts['comments'].apply(str)"
   ]
  },
  {
   "cell_type": "code",
   "execution_count": 7,
   "metadata": {},
   "outputs": [],
   "source": [
    "\n",
    "posts['title'] = posts['title'].apply(cleanText)\n",
    "posts['body'] = posts['body'].apply(cleanText)\n",
    "posts['comments'] = posts['comments'].apply(cleanText)\n"
   ]
  },
  {
   "cell_type": "markdown",
   "metadata": {},
   "source": [
    "Introduce combined features and save the data to a csv."
   ]
  },
  {
   "cell_type": "code",
   "execution_count": 8,
   "metadata": {},
   "outputs": [],
   "source": [
    "title_comments = posts[\"title\"] + \" \" + posts[\"comments\"]\n",
    "title_body  = posts[\"title\"] + \" \" + posts[\"body\"]\n",
    "body_comments = posts[\"comments\"] + \" \" + posts[\"body\"]\n",
    "title_comments_body = posts[\"title\"] + \" \" + posts[\"comments\"] + \" \" + posts[\"body\"]\n",
    "title_comments_url = posts[\"title\"] + \" \" + posts[\"comments\"] + \" \" + posts[\"url\"]\n",
    "all_features = posts[\"title\"] + \" \" + posts[\"comments\"] + \" \" + posts[\"body\"] + \" \" + posts[\"url\"]"
   ]
  },
  {
   "cell_type": "code",
   "execution_count": 9,
   "metadata": {},
   "outputs": [],
   "source": [
    "\n",
    "posts = posts.assign(title_comments_body = title_comments_body)\n",
    "posts = posts.assign(title_comments_url = title_comments_url)\n",
    "posts = posts.assign(all_features = all_features)\n",
    "\n",
    "posts = posts.assign(title_comments = title_comments)\n",
    "posts = posts.assign(title_body = title_body)\n",
    "posts = posts.assign(body_comments = body_comments)\n",
    "#saving the csv file\n",
    "posts.to_csv('csv_data\\\\redditIndia2.csv',index=False)"
   ]
  }
 ],
 "metadata": {
  "kernelspec": {
   "display_name": "midas",
   "language": "python",
   "name": "midas"
  },
  "language_info": {
   "codemirror_mode": {
    "name": "ipython",
    "version": 3
   },
   "file_extension": ".py",
   "mimetype": "text/x-python",
   "name": "python",
   "nbconvert_exporter": "python",
   "pygments_lexer": "ipython3",
   "version": "3.6.7"
  }
 },
 "nbformat": 4,
 "nbformat_minor": 4
}
