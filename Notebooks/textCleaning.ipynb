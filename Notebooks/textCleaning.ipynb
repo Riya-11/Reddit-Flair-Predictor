{
 "cells": [
  {
   "cell_type": "code",
   "execution_count": null,
   "metadata": {},
   "outputs": [],
   "source": [
    "from bs4 import BeautifulSoup\n",
    "import re\n",
    "import nltk\n",
    "from nltk.corpus import stopwords\n",
    "import pymongo\n",
    "from pymongo import MongoClient\n",
    "import pandas as pd"
   ]
  },
  {
   "cell_type": "markdown",
   "metadata": {},
   "source": [
    "#### Establish connection with MongoDB using pymongo"
   ]
  },
  {
   "cell_type": "code",
   "execution_count": null,
   "metadata": {},
   "outputs": [],
   "source": [
    "\n",
    "client = MongoClient('mongodb://localhost:27017/')\n",
    "db = client[\"Reddit_India_2\"]\n",
    "posts = db.posts"
   ]
  },
  {
   "cell_type": "markdown",
   "metadata": {},
   "source": [
    "#### Function to remove symbols and stopwords from text"
   ]
  },
  {
   "cell_type": "code",
   "execution_count": null,
   "metadata": {},
   "outputs": [],
   "source": [
    "replace_with_space = re.compile('[/(){}\\[\\]\\|@,;]')\n",
    "deleteSymbol = re.compile('[^0-9a-z #+_]')\n",
    "stopwords = set(stopwords.words('english'))\n",
    "\n",
    "def cleanText(text):\n",
    "    text = BeautifulSoup(text, \"lxml\").text # HTML decoding\n",
    "    text = text.lower() # lowercase text\n",
    "    text = replace_with_space.sub(' ', text) # replace certain symbols by space in text\n",
    "    text = deleteSymbol.sub('', text) # delete symbols from text\n",
    "    text = ' '.join(word for word in text.split() if word not in stopwords) # remove stopwords from text\n",
    "    return text"
   ]
  },
  {
   "cell_type": "markdown",
   "metadata": {},
   "source": [
    "Store the data in Pandas Dataframe"
   ]
  },
  {
   "cell_type": "code",
   "execution_count": null,
   "metadata": {},
   "outputs": [],
   "source": [
    "collection = db.posts\n",
    "posts = pd.DataFrame(list(collection.find()))\n",
    "del posts['_id']\n"
   ]
  },
  {
   "cell_type": "code",
   "execution_count": null,
   "metadata": {},
   "outputs": [],
   "source": [
    "posts.head()"
   ]
  },
  {
   "cell_type": "markdown",
   "metadata": {},
   "source": [
    "Clean the text in title, body and comments columns of the dataframe"
   ]
  },
  {
   "cell_type": "code",
   "execution_count": null,
   "metadata": {},
   "outputs": [],
   "source": [
    "posts['title'] = posts['title'].apply(str)\n",
    "posts['body'] = posts['body'].apply(str)\n",
    "posts['comments'] = posts['comments'].apply(str)"
   ]
  },
  {
   "cell_type": "code",
   "execution_count": null,
   "metadata": {},
   "outputs": [],
   "source": [
    "\n",
    "posts['title'] = posts['title'].apply(cleanText)\n",
    "posts['body'] = posts['body'].apply(cleanText)\n",
    "posts['comments'] = posts['comments'].apply(cleanText)\n"
   ]
  },
  {
   "cell_type": "markdown",
   "metadata": {},
   "source": [
    "Introduce combined features and save the data to a csv."
   ]
  },
  {
   "cell_type": "code",
   "execution_count": null,
   "metadata": {},
   "outputs": [],
   "source": [
    "title_comments = posts[\"title\"] + \" \" + posts[\"comments\"]\n",
    "title_body  = posts[\"title\"] + \" \" + posts[\"body\"]\n",
    "body_comments = posts[\"comments\"] + \" \" + posts[\"body\"]\n",
    "title_comments_body = posts[\"title\"] + \" \" + posts[\"comments\"] + \" \" + posts[\"body\"]\n",
    "title_comments_url = posts[\"title\"] + \" \" + posts[\"comments\"] + \" \" + posts[\"url\"]\n",
    "all_features = posts[\"title\"] + \" \" + posts[\"comments\"] + \" \" + posts[\"body\"] + \" \" + posts[\"url\"]"
   ]
  },
  {
   "cell_type": "code",
   "execution_count": null,
   "metadata": {},
   "outputs": [],
   "source": [
    "\n",
    "posts = posts.assign(title_comments_body = title_comments_body)\n",
    "posts = posts.assign(title_comments_url = title_comments_url)\n",
    "posts = posts.assign(all_features = all_features)\n",
    "\n",
    "posts = posts.assign(title_comments = title_comments)\n",
    "posts = posts.assign(title_body = title_body)\n",
    "posts = posts.assign(body_comments = body_comments)\n",
    "#saving the csv file\n",
    "posts.to_csv('csv_data\\\\redditIndia2.csv',index=False)"
   ]
  }
 ],
 "metadata": {
  "kernelspec": {
   "display_name": "midas",
   "language": "python",
   "name": "midas"
  },
  "language_info": {
   "codemirror_mode": {
    "name": "ipython",
    "version": 3
   },
   "file_extension": ".py",
   "mimetype": "text/x-python",
   "name": "python",
   "nbconvert_exporter": "python",
   "pygments_lexer": "ipython3",
   "version": "3.6.7"
  }
 },
 "nbformat": 4,
 "nbformat_minor": 4
}
