{
 "cells": [
  {
   "cell_type": "code",
   "execution_count": null,
   "metadata": {},
   "outputs": [],
   "source": [
    "import sklearn\n",
    "import pickle\n",
    "import praw\n",
    "import re\n",
    "from bs4 import BeautifulSoup\n",
    "import nltk\n",
    "from nltk.corpus import stopwords"
   ]
  },
  {
   "cell_type": "markdown",
   "metadata": {},
   "source": [
    "#### Create the reddit instance and load the model"
   ]
  },
  {
   "cell_type": "code",
   "execution_count": null,
   "metadata": {},
   "outputs": [],
   "source": [
    "reddit = praw.Reddit(client_id='#', client_secret='#', user_agent='#')\n",
    "model = pickle.load(open('E://Flair-Detection//model/model_logreg_71.sav','rb'))"
   ]
  },
  {
   "cell_type": "markdown",
   "metadata": {},
   "source": [
    "#### Function to clean the text"
   ]
  },
  {
   "cell_type": "code",
   "execution_count": null,
   "metadata": {},
   "outputs": [],
   "source": [
    "replace_with_space = re.compile('[/(){}\\[\\]\\|@,;]')\n",
    "deleteSymbol = re.compile('[^0-9a-z #+_]')\n",
    "stopwords = set(stopwords.words('english'))\n",
    "\n",
    "def cleanText(text):\n",
    "    text = BeautifulSoup(text, \"lxml\").text # HTML decoding\n",
    "    text = text.lower() # lowercase text\n",
    "    text = replace_with_space.sub(' ', text) # replace certain symbols by space in text\n",
    "    text = deleteSymbol.sub('', text) # delete symbols from text\n",
    "    text = ' '.join(word for word in text.split() if word not in stopwords) # remove stopwords from text\n",
    "    return text"
   ]
  },
  {
   "cell_type": "markdown",
   "metadata": {},
   "source": [
    "#### Function that takes the url of reddit post as input and returns the predicted flair"
   ]
  },
  {
   "cell_type": "code",
   "execution_count": null,
   "metadata": {},
   "outputs": [],
   "source": [
    "def predictFlair(url):\n",
    "    submission = reddit.submission(url = url)\n",
    "    \n",
    "    post = {\n",
    "        \"title\":str(submission.title),\n",
    "        \"body\":str(submission.selftext),\n",
    "        }\n",
    "    comments = \"\"\n",
    "    for comment in submission.comments:\n",
    "        comments = comments + ' ' + comment.body\n",
    "    post[\"comments\"] = comments\n",
    "    data = post['title'] + ' ' + post['comments'] + ' ' + post['body']\n",
    "    \n",
    "    return model.predict([data])"
   ]
  },
  {
   "cell_type": "markdown",
   "metadata": {},
   "source": [
    "#### Utility function to process the input file and return predicted flairs\n",
    "Input format: Text file with urls to reddit posts in each line; \n",
    "Output: Dictionary with url as key and predicted flair as value"
   ]
  },
  {
   "cell_type": "code",
   "execution_count": null,
   "metadata": {},
   "outputs": [],
   "source": [
    "def predictutil(filename):\n",
    "    result = {}\n",
    "    with open(filename,'r') as file:\n",
    "        for link in file:\n",
    "            result[link.strip()] = str(predictFlair(link.strip())[0])\n",
    "    return result\n",
    "            "
   ]
  },
  {
   "cell_type": "code",
   "execution_count": null,
   "metadata": {},
   "outputs": [],
   "source": [
    "predictutil('input.txt')"
   ]
  },
  {
   "cell_type": "code",
   "execution_count": null,
   "metadata": {},
   "outputs": [],
   "source": [
    "predictFlair('https://www.reddit.com/r/india/comments/g8d7ge/thousands_of_litres_of_cow_urine_consumed_in/')"
   ]
  },
  {
   "cell_type": "code",
   "execution_count": null,
   "metadata": {},
   "outputs": [],
   "source": []
  }
 ],
 "metadata": {
  "kernelspec": {
   "display_name": "midas",
   "language": "python",
   "name": "midas"
  },
  "language_info": {
   "codemirror_mode": {
    "name": "ipython",
    "version": 3
   },
   "file_extension": ".py",
   "mimetype": "text/x-python",
   "name": "python",
   "nbconvert_exporter": "python",
   "pygments_lexer": "ipython3",
   "version": "3.6.7"
  }
 },
 "nbformat": 4,
 "nbformat_minor": 4
}
