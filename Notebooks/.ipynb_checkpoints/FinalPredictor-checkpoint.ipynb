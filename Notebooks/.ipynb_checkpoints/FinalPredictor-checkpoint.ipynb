{
 "cells": [
  {
   "cell_type": "code",
   "execution_count": 2,
   "metadata": {},
   "outputs": [],
   "source": [
    "import sklearn\n",
    "import pickle\n",
    "import praw\n",
    "import re\n",
    "from bs4 import BeautifulSoup\n",
    "import nltk\n",
    "from nltk.corpus import stopwords"
   ]
  },
  {
   "cell_type": "markdown",
   "metadata": {},
   "source": [
    "#### Create the reddit instance and load the model"
   ]
  },
  {
   "cell_type": "code",
   "execution_count": 3,
   "metadata": {},
   "outputs": [],
   "source": [
    "reddit = praw.Reddit(client_id='#', client_secret='#',\n",
    "                     user_agent='#')\n",
    "model = pickle.load(open('..\\\\model\\\\model_2.sav','rb'))"
   ]
  },
  {
   "cell_type": "markdown",
   "metadata": {},
   "source": [
    "#### Function to clean the text"
   ]
  },
  {
   "cell_type": "code",
   "execution_count": 4,
   "metadata": {},
   "outputs": [],
   "source": [
    "replace_with_space = re.compile('[/(){}\\[\\]\\|@,;]')\n",
    "deleteSymbol = re.compile('[^0-9a-z #+_]')\n",
    "stopwords = set(stopwords.words('english'))\n",
    "\n",
    "def cleanText(text):\n",
    "    text = BeautifulSoup(text, \"lxml\").text # HTML decoding\n",
    "    text = text.lower() # lowercase text\n",
    "    text = replace_with_space.sub(' ', text) # replace certain symbols by space in text\n",
    "    text = deleteSymbol.sub('', text) # delete symbols from text\n",
    "    text = ' '.join(word for word in text.split() if word not in stopwords) # remove stopwords from text\n",
    "    return text"
   ]
  },
  {
   "cell_type": "markdown",
   "metadata": {},
   "source": [
    "#### Function that takes the url of reddit post as input and returns the predicted flair"
   ]
  },
  {
   "cell_type": "code",
   "execution_count": 5,
   "metadata": {},
   "outputs": [],
   "source": [
    "def predictFlair(url):\n",
    "    submission = reddit.submission(url = url)\n",
    "    \n",
    "    post = {\n",
    "        \"title\":str(submission.title),\n",
    "        \"body\":str(submission.selftext),\n",
    "        }\n",
    "    comments = \"\"\n",
    "    for comment in submission.comments:\n",
    "        comments = comments + ' ' + comment.body\n",
    "    post[\"comments\"] = comments\n",
    "    data = post['title'] + ' ' + post['comments'] + ' ' + post['body']\n",
    "    \n",
    "    return model.predict([data])"
   ]
  },
  {
   "cell_type": "markdown",
   "metadata": {},
   "source": [
    "#### Utility function to process the input file and return predicted flairs\n",
    "Input format: Text file with urls to reddit posts in each line; \n",
    "Output: Dictionary with url as key and predicted flair as value"
   ]
  },
  {
   "cell_type": "code",
   "execution_count": 6,
   "metadata": {},
   "outputs": [],
   "source": [
    "def predictutil(filename):\n",
    "    result = {}\n",
    "    with open(filename,'r') as file:\n",
    "        for link in file:\n",
    "            result[link.strip()] = str(predictFlair(link.strip())[0])\n",
    "    return result\n",
    "            "
   ]
  },
  {
   "cell_type": "code",
   "execution_count": 9,
   "metadata": {},
   "outputs": [
    {
     "data": {
      "text/plain": [
       "array(['Politics'], dtype=object)"
      ]
     },
     "execution_count": 9,
     "metadata": {},
     "output_type": "execute_result"
    }
   ],
   "source": [
    "predictFlair('https://www.reddit.com/r/india/comments/g8dx13/venomous_whisper_of_rumor_mongers_manifest/')"
   ]
  }
 ],
 "metadata": {
  "kernelspec": {
   "display_name": "midas",
   "language": "python",
   "name": "midas"
  },
  "language_info": {
   "codemirror_mode": {
    "name": "ipython",
    "version": 3
   },
   "file_extension": ".py",
   "mimetype": "text/x-python",
   "name": "python",
   "nbconvert_exporter": "python",
   "pygments_lexer": "ipython3",
   "version": "3.6.7"
  }
 },
 "nbformat": 4,
 "nbformat_minor": 4
}
